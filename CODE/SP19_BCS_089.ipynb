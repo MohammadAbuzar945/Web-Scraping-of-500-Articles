{
  "nbformat": 4,
  "nbformat_minor": 0,
  "metadata": {
    "colab": {
      "name": "SP19-BCS-089.ipynb",
      "provenance": [],
      "collapsed_sections": []
    },
    "kernelspec": {
      "name": "python3",
      "display_name": "Python 3"
    },
    "language_info": {
      "name": "python"
    }
  },
  "cells": [
    {
      "cell_type": "code",
      "metadata": {
        "colab": {
          "base_uri": "https://localhost:8080/"
        },
        "id": "jQ1SzaXfquyC",
        "outputId": "a25b3d57-21c1-4be3-d7f6-b82ba3f19f52"
      },
      "source": [
        "import urllib3\n",
        "from bs4 import BeautifulSoup\n",
        "import re\n",
        "import json\n",
        "import pandas as pd\n",
        "import numpy as np\n",
        "from google.colab import drive\n",
        "import os\n",
        "\n",
        "drive.mount('/content/drive')\n",
        "http = urllib3.PoolManager()\n",
        "directory ='/content/drive/MyDrive/Assignment-2/'"
      ],
      "execution_count": 1,
      "outputs": [
        {
          "output_type": "stream",
          "text": [
            "Mounted at /content/drive\n"
          ],
          "name": "stdout"
        }
      ]
    },
    {
      "cell_type": "code",
      "metadata": {
        "id": "nljwAXqNPAyM"
      },
      "source": [
        "def delUnwanted (res):\n",
        "  del res['purchaseOptions']\n",
        "  del res['dbTime']\n",
        "  del res['ephemeraFlag']\n",
        "  del res['allowComments']\n",
        "  del res['getProgramTermsAccepted']\n",
        "  del res['htmlAbstractLink']\n",
        "  del res['htmlLink']\n",
        "  del res['html_flag']\n",
        "  del res['isCustomDenial']\n",
        "  del res['isDynamicHtml']\n",
        "  del res['isEarlyAccess']\n",
        "  del res['isEphemera']\n",
        "  del res['isFreeDocument']\n",
        "  del res['isGetAddressInfoCaptured']\n",
        "  del res['isGetArticle']\n",
        "  del res['isMarketingOptIn']\n",
        "  del res['isMorganClaypool']\n",
        "  del res['isNotDynamicOrStatic']\n",
        "  del res['isNow']\n",
        "  del res['isNumber']\n",
        "  del res['isOUP']\n",
        "  del res['isOpenAccess']\n",
        "  del res['isProduct']\n",
        "  del res['isPromo']\n",
        "  del res['isReadingRoomArticle']\n",
        "  del res['isSAE']\n",
        "  del res['isSMPTE']\n",
        "  del res['isStandard']\n",
        "  del res['isStaticHtml']\n",
        "  del res['mediaPath']\n",
        "  del res['mlTime']\n",
        "  del res['ml_html_flag']\n",
        "  del res['openAccessFlag']\n",
        "  del res['pdfPath']\n",
        "  del res['pdfUrl']\n",
        "  del res['persistentLink']\n",
        "  del res['pubLink']\n",
        "  del res['rightsLink']\n",
        "  del res['rightsLinkFlag']\n",
        "  del res['sections']\n",
        "  del res['sourcePdf']\n",
        "  del res['userInfo']\n",
        "  return res"
      ],
      "execution_count": 2,
      "outputs": []
    },
    {
      "cell_type": "code",
      "metadata": {
        "id": "JJaomoEoPXkr"
      },
      "source": [
        "def consistData(res):\n",
        "  \n",
        "  kes = np.array(list(res.keys()))\n",
        "  new_keys = np.intersect1d(kes, keys_to_consider)\n",
        "  new_res = {x:res[x] for x in new_keys}\n",
        "  return new_res"
      ],
      "execution_count": 3,
      "outputs": []
    },
    {
      "cell_type": "code",
      "metadata": {
        "id": "YxMYgweoPX12"
      },
      "source": [
        "def rearrangeData(res, sponsorsFlag = True):\n",
        "  issn = {value['format'] + '_value':value['value'] for value in res['issn']}\n",
        "  del res['issn']\n",
        "  res.update(issn)\n",
        "\n",
        "  metrics = {key + \"_metrics\":value for key, value in res['metrics'].items()}\n",
        "  del res['metrics']\n",
        "  res.update(metrics)\n",
        "\n",
        "  pubTopics = [x['name'] for x in res['pubTopics']]\n",
        "  del res['pubTopics']\n",
        "  res.update({'pubTopics': pubTopics})\n",
        "\n",
        "  if sponsorsFlag:\n",
        "    sponsors_name = [x['name'] for x in res['sponsors']]\n",
        "    sponsors_url = [x['url'] for x in res['sponsors']]\n",
        "    del res['sponsors']\n",
        "    res.update({'sponsors_name': sponsors_name})\n",
        "    res.update({'sponsors_url': sponsors_url})\n",
        "\n",
        "  return res"
      ],
      "execution_count": 5,
      "outputs": []
    },
    {
      "cell_type": "code",
      "metadata": {
        "id": "r4KE45DlPX-_"
      },
      "source": [
        "def getJson(url, http):\n",
        "  r = http.request('GET', url)\n",
        "  soup = BeautifulSoup(r.data,features=\"html.parser\")\n",
        "  da = soup.find_all('script', type='text/javascript')\n",
        "  x = re.search(\"xplGlobal\\.document\\.metadata=.*\", str(da[8]))\n",
        "  res = json.loads(x.group()[28:-1])\n",
        "  return res"
      ],
      "execution_count": 6,
      "outputs": []
    },
    {
      "cell_type": "code",
      "metadata": {
        "id": "sw4jwHGgPorQ"
      },
      "source": [
        "def one_NF (df, col_name, with_split = True):\n",
        "  if with_split == True:\n",
        "    df[col_name] = df[col_name].map(lambda x: x[0].split(','))\n",
        "  return pd.DataFrame({col:np.repeat(df[col].values, df[col_name].str.len()) for col in df.columns.difference([col_name])}).assign(**{col_name:np.concatenate(df[col_name].values)})[df.columns.tolist()]"
      ],
      "execution_count": 7,
      "outputs": []
    },
    {
      "cell_type": "code",
      "metadata": {
        "colab": {
          "base_uri": "https://localhost:8080/"
        },
        "id": "GETvCpjmPowD",
        "outputId": "e9704d62-699d-4bf7-8315-7128aa82b3a5"
      },
      "source": [
        "df_articles = pd.DataFrame()\n",
        "df_authors = pd.DataFrame()\n",
        "df_keywords = pd.DataFrame()\n",
        "df_sponsors = pd.DataFrame()\n",
        "df_pubTopics = pd.DataFrame()\n",
        "keys_to_consider = delUnwanted (getJson('https://ieeexplore.ieee.org/document/6661315/', http))\n",
        "keys_to_consider = np.array(list(keys_to_consider.keys()))"
      ],
      "execution_count": 8,
      "outputs": [
        {
          "output_type": "stream",
          "text": [
            "/usr/local/lib/python3.7/dist-packages/urllib3/connectionpool.py:847: InsecureRequestWarning: Unverified HTTPS request is being made. Adding certificate verification is strongly advised. See: https://urllib3.readthedocs.io/en/latest/advanced-usage.html#ssl-warnings\n",
            "  InsecureRequestWarning)\n"
          ],
          "name": "stderr"
        }
      ]
    },
    {
      "cell_type": "code",
      "metadata": {
        "id": "7Y14YcH0Po0s"
      },
      "source": [
        "def getAuthorDf(res):\n",
        "  df = pd.DataFrame(res['authors'])\n",
        "  try:\n",
        "    df.drop('bio', axis=1, inplace=True)\n",
        "  except:\n",
        "    print(\"no bio\")\n",
        "  try:\n",
        "    new_df = one_NF(df, 'affiliation')\n",
        "  except:\n",
        "    new_df = df\n",
        "    new_df['affiliation'] = np.nan\n",
        "  del res['authors']\n",
        "  new_df['articleId'] = res['articleId']\n",
        "  return (new_df, res)"
      ],
      "execution_count": 9,
      "outputs": []
    },
    {
      "cell_type": "code",
      "metadata": {
        "id": "CbsHDwd6QKUE"
      },
      "source": [
        "def getKeywordsDf(res):\n",
        "  df_keywords = pd.DataFrame(res['keywords'])\n",
        "  df_keywords_new = one_NF (df_keywords, 'kwd', with_split=False)\n",
        "  del res['keywords']\n",
        "  df_keywords_new['articleId'] = res['articleId']\n",
        "  return (df_keywords_new, res)"
      ],
      "execution_count": 10,
      "outputs": []
    },
    {
      "cell_type": "code",
      "metadata": {
        "id": "PySS329YQKaM"
      },
      "source": [
        "def getArticleDf (res, sponsorsFlag = True):\n",
        "  df_pubTopics = pd.DataFrame({'pubTopics': res['pubTopics']})\n",
        "  df_pubTopics['articleId'] = res['articleId']\n",
        "  del res['pubTopics']\n",
        "  if sponsorsFlag:\n",
        "    df_sponsors = pd.DataFrame({'sponsors_name': res['sponsors_name'], 'sponsors_url': res['sponsors_url']})\n",
        "    df_sponsors['articleId'] = res['articleId']\n",
        "    del res['sponsors_name']\n",
        "    del res['sponsors_url']\n",
        "    df = pd.DataFrame.from_records([res])\n",
        "    df.drop_duplicates(inplace=True)\n",
        "    return (df, df_pubTopics, df_sponsors)\n",
        "  df = pd.DataFrame.from_records([res])\n",
        "  df.drop_duplicates(inplace=True)\n",
        "  return (df, df_pubTopics)"
      ],
      "execution_count": 11,
      "outputs": []
    },
    {
      "cell_type": "code",
      "metadata": {
        "id": "lKepbCLgQKld"
      },
      "source": [
        "remaining_files = os.listdir(directory)\n",
        "file_num=0\n",
        "finished_urls = []"
      ],
      "execution_count": 12,
      "outputs": []
    },
    {
      "cell_type": "code",
      "metadata": {
        "id": "WcpNTH0xQVrc"
      },
      "source": [
        "for filename in remaining_files:\n",
        "  print(filename)\n",
        "  print(\"File \"+ str(file_num) + \" / \" + str(len(os.listdir(directory))))\n",
        "  df = pd.read_excel(directory + '/' + filename)\n",
        "  urls = list(df['URL'])\n",
        "  record_num = 0\n",
        "  for url in urls:\n",
        "    if url not in finished_urls:\n",
        "      print(url)\n",
        "      record_num += 1\n",
        "      print(\"Record \"+ str(record_num) + \" / \" + str(len(urls)))\n",
        "      sponsorsFlag = True\n",
        "      res = getJson(url, http)\n",
        "      res = consistData(res)\n",
        "      try:\n",
        "        print(res['sponsors'])\n",
        "      except:\n",
        "        sponsorsFlag = False\n",
        "\n",
        "      \n",
        "      df_author, res = getAuthorDf(res)\n",
        "      \n",
        "      df_keyword, res = getKeywordsDf(res)\n",
        "\n",
        "      res = rearrangeData(res, sponsorsFlag)\n",
        "      if sponsorsFlag:\n",
        "        df_article, df_pubTopic, df_sponsor = getArticleDf (res, sponsorsFlag)\n",
        "      else:\n",
        "        df_article, df_pubTopic = getArticleDf (res, sponsorsFlag)\n",
        "\n",
        "      df_authors = df_authors.append(df_author, ignore_index=True)\n",
        "      df_keywords = df_keywords.append(df_keyword, ignore_index=True)\n",
        "      df_articles = df_articles.append(df_article, ignore_index=True)\n",
        "      df_pubTopics = df_pubTopics.append(df_pubTopic, ignore_index=True)\n",
        "      if sponsorsFlag:\n",
        "        df_sponsors = df_sponsors.append(df_sponsor, ignore_index=True)\n",
        "      finished_urls.append(url)\n",
        "  file_num += 1\n",
        "  remaining_files.remove(filename)"
      ],
      "execution_count": null,
      "outputs": []
    },
    {
      "cell_type": "markdown",
      "metadata": {
        "id": "zT0Qr7b257hs"
      },
      "source": [
        "**Saving Files to my Google drive**"
      ]
    },
    {
      "cell_type": "code",
      "metadata": {
        "id": "kLWmC_jaQVxI"
      },
      "source": [
        "df_authors.to_csv ('/content/drive/MyDrive/Assignment-2/Data/df_authors.csv', index=False)\n",
        "df_keywords.to_csv('/content/drive/MyDrive/Assignment-2/Data/df_keywords.csv', index=False)\n",
        "df_articles.to_csv('/content/drive/MyDrive/Assignment-2/Data/df_articles.csv', index=False)\n",
        "df_articles.to_csv('/content/drive/MyDrive/Assignment-2/Data/df_articles.csv', index=False)\n",
        "df_pubTopics.to_csv('/content/drive/MyDrive/Assignment-2/Data/df_pubTopics.csv', index=False)\n",
        "df_sponsors.to_csv('/content/drive/MyDrive/Assignment-2/Data/df_sponsors.csv', index=False)"
      ],
      "execution_count": 49,
      "outputs": []
    }
  ]
}